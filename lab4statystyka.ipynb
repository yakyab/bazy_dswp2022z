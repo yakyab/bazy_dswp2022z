{
 "cells": [
  {
   "cell_type": "markdown",
   "source": [
    "Wygeneruj próbę losową dla rozkładu normalnego dla średniej = 2, odchylenia = 30 i liczby elementów = 200. Zbadaj hipotezę mówiącą o tym, że średnia tego rozkładu jest równa 2,5."
   ],
   "metadata": {
    "collapsed": false
   }
  },
  {
   "cell_type": "code",
   "execution_count": 151,
   "outputs": [
    {
     "name": "stdout",
     "output_type": "stream",
     "text": [
      "p_wartość: 0.7671928669755029\n"
     ]
    }
   ],
   "source": [
    "import numpy as np\n",
    "from scipy import stats\n",
    "\n",
    "mean = 2\n",
    "std = 30\n",
    "size = 200\n",
    "\n",
    "sample = np.random.normal(mean, std, size)\n",
    "\n",
    "hypothesized_mean = 2.5\n",
    "stat, p_value = stats.ttest_1samp(sample, hypothesized_mean)\n",
    "print(\"p_wartość: \" + str(p_value))"
   ],
   "metadata": {
    "collapsed": false,
    "pycharm": {
     "name": "#%%\n"
    }
   }
  },
  {
   "cell_type": "markdown",
   "source": [
    "p-wartość jest większa niż wybrany przeze mnie poziom istotności 0,05, oznacza to, że nie można odrzucić hipotezy zerowej, czyli że średnia jest równa wartości podanej w hipotezie."
   ],
   "metadata": {
    "collapsed": false
   }
  },
  {
   "cell_type": "markdown",
   "source": [
    "Wczytaj plik napoje.csv do pandas DataFrame. Zweryfikuj hipotezę że średnie spożycie piwa lech wynosi 60500, coli wynosi 222000, piw regionalne wynosi 43500."
   ],
   "metadata": {
    "collapsed": false
   }
  },
  {
   "cell_type": "code",
   "execution_count": 152,
   "metadata": {
    "collapsed": true
   },
   "outputs": [
    {
     "name": "stdout",
     "output_type": "stream",
     "text": [
      "Hipoteza jest nieprawdziwa\n"
     ]
    }
   ],
   "source": [
    "import pandas as pd\n",
    "\n",
    "df = pd.read_csv('napoje.csv', sep=';')\n",
    "\n",
    "lech_mean = df['lech'].mean()\n",
    "cola_mean = df['cola'].mean()\n",
    "regionalne_mean = df['regionalne'].mean()\n",
    "\n",
    "if lech_mean == 60500 and cola_mean == 222000 and regionalne_mean == 43500:\n",
    "    print('Hipoteza jest prawdziwa')\n",
    "else:\n",
    "    print('Hipoteza jest nieprawdziwa')"
   ]
  },
  {
   "cell_type": "markdown",
   "source": [
    "Sprawdzić która zmienna w pliku napoje.csv wykazuje normalność"
   ],
   "metadata": {
    "collapsed": false
   }
  },
  {
   "cell_type": "code",
   "execution_count": 153,
   "outputs": [
    {
     "name": "stdout",
     "output_type": "stream",
     "text": [
      "Zmienna mies wykazuje normalność (p-wartość: 4.075907327205641e-07)\n",
      "Zmienna rok wykazuje normalność (p-wartość: 1.3103949640935753e-06)\n",
      "Zmienna pepsi nie wykazuje normalności (p-wartość: 0.29676657915115356)\n",
      "Zmienna fanta  nie wykazuje normalności (p-wartość: 0.17038102447986603)\n",
      "Zmienna żywiec nie wykazuje normalności (p-wartość: 0.3080180585384369)\n",
      "Zmienna okocim nie wykazuje normalności (p-wartość: 0.08893532305955887)\n",
      "Zmienna regionalne wykazuje normalność (p-wartość: 1.8769890175462933e-07)\n",
      "Zmienna cola nie wykazuje normalności (p-wartość: 0.5695559978485107)\n",
      "Zmienna lech nie wykazuje normalności (p-wartość: 0.5875298380851746)\n"
     ]
    }
   ],
   "source": [
    "for col in df.columns:\n",
    "    stat, p = stats.shapiro(df[col])\n",
    "    if p > 0.05:\n",
    "        print(\"Zmienna \" + str(col) + \" nie wykazuje normalności (p-wartość: \" + str(p) + \")\")\n",
    "    else:\n",
    "        print(\"Zmienna \" + str(col) + \" wykazuje normalność (p-wartość: \" + str(p) + \")\")"
   ],
   "metadata": {
    "collapsed": false,
    "pycharm": {
     "name": "#%%\n"
    }
   }
  },
  {
   "cell_type": "markdown",
   "source": [
    "Zbadaj równość średnich dla następujących par: okocim – lech, fanta – regionalne oraz cola – pepsi."
   ],
   "metadata": {
    "collapsed": false
   }
  },
  {
   "cell_type": "code",
   "execution_count": 154,
   "outputs": [
    {
     "name": "stdout",
     "output_type": "stream",
     "text": [
      "p-value: 0.4057078093583594\n",
      "Nie można stwierdzić, że istnieje znacząca różnica między średnimi dla okocim i lech\n",
      "p-value: 1.097001288015355e-24\n",
      "Istnieje istotna statystycznie różnica między średnimi dla fanta i regionalne\n",
      "p-value: 0.0\n",
      "Istnieje istotna statystycznie różnica między średnimi dla cola i pepsi\n"
     ]
    }
   ],
   "source": [
    "stat, p_value = stats.ttest_ind(df['okocim'], df['lech'])\n",
    "print(\"p-value: \" + str(p_value))\n",
    "\n",
    "if p_value < 0.05:\n",
    "    print('Istnieje istotna statystycznie różnica między średnimi dla okocim i lech')\n",
    "else:\n",
    "    print('Nie można stwierdzić, że istnieje znacząca różnica między średnimi dla okocim i lech')\n",
    "\n",
    "stat, p_value = stats.ttest_ind(df['fanta '], df['regionalne'])\n",
    "print(\"p-value: \" + str(p_value))\n",
    "\n",
    "if p_value < 0.05:\n",
    "    print('Istnieje istotna statystycznie różnica między średnimi dla fanta i regionalne')\n",
    "else:\n",
    "    print('Nie można stwierdzić, że istnieje znacząca różnica między średnimi dla fanta i regionalne')\n",
    "\n",
    "stat, p_value = stats.ttest_ind(df['cola'], df['pepsi'])\n",
    "print(\"p-value: \" + str(p_value))\n",
    "\n",
    "if p_value < 0.05:\n",
    "    print('Istnieje istotna statystycznie różnica między średnimi dla cola i pepsi')\n",
    "else:\n",
    "    print('Nie można stwierdzić, że istnieje znacząca różnica między średnimi dla cola i pepsi')"
   ],
   "metadata": {
    "collapsed": false,
    "pycharm": {
     "name": "#%%\n"
    }
   }
  },
  {
   "cell_type": "markdown",
   "source": [
    "Zbadaj równość wariancji pomiędzy okocim – lech, żywiec – fanta oraz regionalne – cola."
   ],
   "metadata": {
    "collapsed": false
   }
  },
  {
   "cell_type": "code",
   "execution_count": 155,
   "outputs": [
    {
     "name": "stdout",
     "output_type": "stream",
     "text": [
      "p-value: 0.2757791126546958\n",
      "Nie można stwierdzić, że istnieje znacząca różnica między wariancjami dla okocim i lech\n",
      "p-value: 0.2251362462983421\n",
      "Nie można stwierdzić, że istnieje znacząca różnica między wariancjami dla żywiec i fanta\n",
      "p-value: 3.275749775904902e-18\n",
      "Istnieje istotna statystycznie różnica między wariancjami dla regionalne i cola\n"
     ]
    }
   ],
   "source": [
    "stat, p_value = stats.levene(df['okocim'], df['lech'])\n",
    "print(\"p-value: \" + str(p_value))\n",
    "\n",
    "if p_value < 0.05:\n",
    "    print('Istnieje istotna statystycznie różnica między wariancjami dla okocim i lech')\n",
    "else:\n",
    "    print('Nie można stwierdzić, że istnieje znacząca różnica między wariancjami dla okocim i lech')\n",
    "\n",
    "stat, p_value = stats.levene(df['żywiec'], df['fanta '])\n",
    "print(\"p-value: \" + str(p_value))\n",
    "\n",
    "if p_value < 0.05:\n",
    "    print('Istnieje istotna statystycznie różnica między wariancjami dla żywiec i fanta')\n",
    "else:\n",
    "    print('Nie można stwierdzić, że istnieje znacząca różnica między wariancjami dla żywiec i fanta')\n",
    "\n",
    "stat, p_value = stats.levene(df['regionalne'], df['cola'])\n",
    "print(\"p-value: \" + str(p_value))\n",
    "\n",
    "if p_value < 0.05:\n",
    "    print('Istnieje istotna statystycznie różnica między wariancjami dla regionalne i cola')\n",
    "else:\n",
    "    print('Nie można stwierdzić, że istnieje znacząca różnica między wariancjami dla regionalne i cola')"
   ],
   "metadata": {
    "collapsed": false,
    "pycharm": {
     "name": "#%%\n"
    }
   }
  },
  {
   "cell_type": "markdown",
   "source": [
    "Zbadaj równość średnich pomiędzy latami 2001 i 2015 dla piw regionalnych."
   ],
   "metadata": {
    "collapsed": false
   }
  },
  {
   "cell_type": "code",
   "execution_count": 156,
   "outputs": [
    {
     "name": "stdout",
     "output_type": "stream",
     "text": [
      "p-value: 0.0016000242362201897\n",
      "Istnieje istotna statystycznie różnica między średnimi dla piw regionalnych z 2001 i 2015\n"
     ]
    }
   ],
   "source": [
    "lata_2001 = df[df[\"rok\"] == 2001]\n",
    "lata_2015 = df[df[\"rok\"] == 2015]\n",
    "\n",
    "stat, p_value = stats.ttest_ind(lata_2001['regionalne'], lata_2015['regionalne'])\n",
    "print(\"p-value: \" + str(p_value))\n",
    "\n",
    "if p_value < 0.05:\n",
    "    print('Istnieje istotna statystycznie różnica między średnimi dla piw regionalnych z 2001 i 2015')\n",
    "else:\n",
    "    print('Nie można stwierdzić, że istnieje znacząca różnica między średnimi dla piw regionalnych z 2001 i 2015')"
   ],
   "metadata": {
    "collapsed": false,
    "pycharm": {
     "name": "#%%\n"
    }
   }
  },
  {
   "cell_type": "markdown",
   "source": [
    "Zbadaj równość średnich dla wartości z roku 2016 oraz dla wartości z pliku napoje_po_reklamie.csv oddzielnie dla coli, fanty i pepsi. Zakładamy, że zmienne te są zależne."
   ],
   "metadata": {
    "collapsed": false
   }
  },
  {
   "cell_type": "code",
   "execution_count": 157,
   "outputs": [
    {
     "name": "stdout",
     "output_type": "stream",
     "text": [
      "p-value: 0.9141373808316627\n",
      "Nie można stwierdzić, że istnieje znacząca różnica między średnimi dla coli z 2016 przed i po reklamie\n",
      "p-value: 0.7550366759257837\n",
      "Nie można stwierdzić, że istnieje znacząca różnica między średnimi dla fanty z 2016 przed i po reklamie\n",
      "p-value: 0.8411601080767367\n",
      "Nie można stwierdzić, że istnieje znacząca różnica między średnimi dla pepsi z 2016 przed i po reklamie\n"
     ]
    }
   ],
   "source": [
    "df2 = pd.read_csv('napoje_po_reklamie.csv', sep=';')\n",
    "\n",
    "lata_2016_przed_reklama = df[df[\"rok\"] == 2016]\n",
    "\n",
    "stat, p_value = stats.ttest_rel(lata_2016_przed_reklama['cola'], df2['cola'])\n",
    "print(\"p-value: \" + str(p_value))\n",
    "\n",
    "if p_value < 0.05:\n",
    "    print('Istnieje istotna statystycznie różnica między średnimi dla coli z 2016 przed i po reklamie')\n",
    "else:\n",
    "    print('Nie można stwierdzić, że istnieje znacząca różnica między średnimi dla coli z 2016 przed i po reklamie')\n",
    "\n",
    "stat, p_value = stats.ttest_rel(lata_2016_przed_reklama['fanta '], df2['fanta '])\n",
    "print(\"p-value: \" + str(p_value))\n",
    "\n",
    "if p_value < 0.05:\n",
    "    print('Istnieje istotna statystycznie różnica między średnimi dla fanty z 2016 przed i po reklamie')\n",
    "else:\n",
    "    print('Nie można stwierdzić, że istnieje znacząca różnica między średnimi dla fanty z 2016 przed i po reklamie')\n",
    "\n",
    "stat, p_value = stats.ttest_rel(lata_2016_przed_reklama['pepsi'], df2['pepsi'])\n",
    "print(\"p-value: \" + str(p_value))\n",
    "\n",
    "if p_value < 0.05:\n",
    "    print('Istnieje istotna statystycznie różnica między średnimi dla pepsi z 2016 przed i po reklamie')\n",
    "else:\n",
    "    print('Nie można stwierdzić, że istnieje znacząca różnica między średnimi dla pepsi z 2016 przed i po reklamie')"
   ],
   "metadata": {
    "collapsed": false,
    "pycharm": {
     "name": "#%%\n"
    }
   }
  }
 ],
 "metadata": {
  "kernelspec": {
   "display_name": "Python 3",
   "language": "python",
   "name": "python3"
  },
  "language_info": {
   "codemirror_mode": {
    "name": "ipython",
    "version": 2
   },
   "file_extension": ".py",
   "mimetype": "text/x-python",
   "name": "python",
   "nbconvert_exporter": "python",
   "pygments_lexer": "ipython2",
   "version": "2.7.6"
  }
 },
 "nbformat": 4,
 "nbformat_minor": 0
}