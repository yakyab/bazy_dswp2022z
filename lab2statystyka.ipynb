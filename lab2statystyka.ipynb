{
 "cells": [
  {
   "cell_type": "markdown",
   "source": [
    "Dla zmiennych losowych przedstawionych w tabeli obliczyć podstawowe statystyki:\n",
    "Wartość\n",
    "1 2 3 4 5 6\n",
    "Prawdopodobieństwo\n",
    "1/6 1/6 1/6 1/6 1/6 1/6"
   ],
   "metadata": {
    "collapsed": false
   }
  },
  {
   "cell_type": "code",
   "execution_count": 15,
   "metadata": {
    "collapsed": true
   },
   "outputs": [
    {
     "name": "stdout",
     "output_type": "stream",
     "text": [
      "Wartość oczekiwania: 3.5\n",
      "Odchylenie standardowe: 1.8708286933869707\n",
      "Mediana: 3.5\n",
      "Wariancja: 3.5\n"
     ]
    }
   ],
   "source": [
    "import statistics\n",
    "import stats\n",
    "\n",
    "wartosc_oczekiwana = statistics.mean([1, 2, 3, 4, 5, 6])\n",
    "print(\"Wartość oczekiwania: \" + str(wartosc_oczekiwana))\n",
    "odchylenie_standardowe = statistics.stdev([1, 2, 3, 4, 5, 6])\n",
    "print(\"Odchylenie standardowe: \" + str(odchylenie_standardowe))\n",
    "mediana = statistics.median([1, 2, 3, 4, 5, 6])\n",
    "print(\"Mediana: \" + str(mediana))\n",
    "wariancja = statistics.variance([1, 2, 3, 4, 5, 6])\n",
    "print(\"Wariancja: \" + str(wariancja))"
   ]
  },
  {
   "cell_type": "markdown",
   "source": [
    "Wygeneruj próby dla n=100 dla następujących rozkładów: Bernoulliego, Dwumianowego, Poissona"
   ],
   "metadata": {
    "collapsed": false
   }
  },
  {
   "cell_type": "code",
   "execution_count": 16,
   "outputs": [
    {
     "name": "stdout",
     "output_type": "stream",
     "text": [
      "Bernoulli: [1 0 0 1 0 0 0 1 0 0 0 1 1 1 1 1 0 0 1 1 0 0 1 1 1 0 0 0 1 1 0 1 1 1 0 1 0\n",
      " 1 0 1 0 1 1 0 1 0 1 0 1 1 0 1 1 1 1 1 0 1 1 0 0 1 1 1 1 0 0 1 1 1 1 0 0 1\n",
      " 0 0 0 1 0 1 1 1 1 0 1 1 0 1 1 1 0 1 0 1 1 1 0 1 1 1]\n",
      "Dwumianowy: [ 3  3  4  5  3  7  8  3  9  6  6  5  6  5  5  7  6  8  5  6  3  5  7  7\n",
      "  4  5  6  7  5  5  5  6  1  7  5  7  0  4  3  8  6  6  7  6  6  6  3  6\n",
      "  5  3  3  3  7  6  6  6  6  5  7  5  3 10  7  4  6  5  6  7  7  4  5  6\n",
      "  5  3  7  5  3  5  7  6  5  7  6  4  7  3  6  4  4  6  6  6  6  4  7  7\n",
      "  6  5  5  7]\n",
      "Poisson: [ 6  9  6  6  5  8  5  3  6  2  3  3  4  3  8  0  6  4  5  6  5  5  3  3\n",
      "  4  5  8  2  4  1  6  3  6  8  5  1  6  6  6  2  2  5 13  3  7  3  5  5\n",
      "  7  6  5  4  5  3  4  5  3  2 11 12  4  2  6  8  5  7  9  6  3  7  1  7\n",
      "  4  4 10 10  1  7  3  5  5  4  5  6  4  5  6  6  8  4  8  4  3  4  6  8\n",
      "  1  8  5  4]\n"
     ]
    }
   ],
   "source": [
    "from scipy.stats import bernoulli, binom, poisson\n",
    "from scipy import stats\n",
    "\n",
    "n = 100\n",
    "bernoulli_samples = bernoulli.rvs(p=0.5, size=n)\n",
    "print(\"Bernoulli: \" + str(bernoulli_samples))\n",
    "binomial_samples = binom.rvs(n=10, p=0.5, size=n)\n",
    "print(\"Dwumianowy: \" + str(binomial_samples))\n",
    "poisson_samples = poisson.rvs(mu=5, size=n)\n",
    "print(\"Poisson: \" + str(poisson_samples))"
   ],
   "metadata": {
    "collapsed": false,
    "pycharm": {
     "name": "#%%\n"
    }
   }
  },
  {
   "cell_type": "markdown",
   "source": [
    "Policz dla nich statystyki podstawowe (średnią, wariancję, kurtozę i skośność)."
   ],
   "metadata": {
    "collapsed": false
   }
  },
  {
   "cell_type": "code",
   "execution_count": 17,
   "outputs": [
    {
     "name": "stdout",
     "output_type": "stream",
     "text": [
      "Dla Bernoulliego:\n",
      "Średnia: 0.6\n",
      "Wariancja: 0.24000000000000005\n",
      "Kurtoza: -1.8333333333333337\n",
      "Skośność: -0.40824829046386274\n"
     ]
    }
   ],
   "source": [
    "import numpy as np\n",
    "mean = np.mean(bernoulli_samples)\n",
    "variance = np.var(bernoulli_samples)\n",
    "kurtosis = stats.kurtosis(bernoulli_samples)\n",
    "skewness = stats.skew(bernoulli_samples)\n",
    "\n",
    "print(\"Dla Bernoulliego:\")\n",
    "print(\"Średnia: \" + str(mean))\n",
    "print(\"Wariancja: \" + str(variance))\n",
    "print(\"Kurtoza: \" + str(kurtosis))\n",
    "print(\"Skośność: \" + str(skewness))"
   ],
   "metadata": {
    "collapsed": false,
    "pycharm": {
     "name": "#%%\n"
    }
   }
  },
  {
   "cell_type": "code",
   "execution_count": 18,
   "outputs": [
    {
     "name": "stdout",
     "output_type": "stream",
     "text": [
      "Dla dwumianowego:\n",
      "Średnia: 5.4\n",
      "Wariancja: 2.6600000000000006\n",
      "Kurtoza: 0.6918989202329118\n",
      "Skośność: -0.40937423568620307\n"
     ]
    }
   ],
   "source": [
    "mean = np.mean(binomial_samples)\n",
    "variance = np.var(binomial_samples)\n",
    "kurtosis = stats.kurtosis(binomial_samples)\n",
    "skewness = stats.skew(binomial_samples)\n",
    "\n",
    "print(\"Dla dwumianowego:\")\n",
    "print(\"Średnia: \" + str(mean))\n",
    "print(\"Wariancja: \" + str(variance))\n",
    "print(\"Kurtoza: \" + str(kurtosis))\n",
    "print(\"Skośność: \" + str(skewness))"
   ],
   "metadata": {
    "collapsed": false,
    "pycharm": {
     "name": "#%%\n"
    }
   }
  },
  {
   "cell_type": "code",
   "execution_count": 19,
   "outputs": [
    {
     "name": "stdout",
     "output_type": "stream",
     "text": [
      "Dla Poissona:\n",
      "Średnia: 5.1\n",
      "Wariancja: 5.829999999999999\n",
      "Kurtoza: 0.7228065633192027\n",
      "Skośność: 0.6031215662192391\n"
     ]
    }
   ],
   "source": [
    "mean = np.mean(poisson_samples)\n",
    "variance = np.var(poisson_samples)\n",
    "kurtosis = stats.kurtosis(poisson_samples)\n",
    "skewness = stats.skew(poisson_samples)\n",
    "\n",
    "print(\"Dla Poissona:\")\n",
    "print(\"Średnia: \" + str(mean))\n",
    "print(\"Wariancja: \" + str(variance))\n",
    "print(\"Kurtoza: \" + str(kurtosis))\n",
    "print(\"Skośność: \" + str(skewness))"
   ],
   "metadata": {
    "collapsed": false,
    "pycharm": {
     "name": "#%%\n"
    }
   }
  },
  {
   "cell_type": "markdown",
   "source": [
    "Dla rozkładów Bernoulliego, Dwumianowego i Poissona narysuj wykres składający się z 3 części, gdzie każda część będzie zawierać wykres rozkładu prawdopodobieństwa"
   ],
   "metadata": {
    "collapsed": false
   }
  },
  {
   "cell_type": "code",
   "execution_count": 23,
   "outputs": [
    {
     "data": {
      "text/plain": "<Figure size 640x480 with 3 Axes>",
      "image/png": "[encoded data removed]"
     },
     "metadata": {},
     "output_type": "display_data"
    }
   ],
   "source": [
    "import matplotlib.pyplot as plt\n",
    "plt.subplot(3, 1, 1)\n",
    "plt.hist(bernoulli_samples, bins=np.arange(3))\n",
    "plt.xlabel(\"Wartość\")\n",
    "plt.ylabel(\"Liczba wystąpień\")\n",
    "plt.title(\"Rozkład Bernoulliego\")\n",
    "\n",
    "plt.subplot(3, 1, 2)\n",
    "plt.hist(binomial_samples, bins=np.arange(12))\n",
    "plt.xlabel(\"Wartość\")\n",
    "plt.ylabel(\"Liczba wystąpień\")\n",
    "plt.title(\"Rozkład Dwumianowy\")\n",
    "\n",
    "plt.subplot(3, 1, 3)\n",
    "plt.hist(poisson_samples, bins=np.arange(15))\n",
    "plt.xlabel(\"Wartość\")\n",
    "plt.ylabel(\"Liczba wystąpień\")\n",
    "plt.title(\"Rozkład Poissona\")\n",
    "\n",
    "plt.tight_layout()\n",
    "plt.show()"
   ],
   "metadata": {
    "collapsed": false,
    "pycharm": {
     "name": "#%%\n"
    }
   }
  },
  {
   "cell_type": "markdown",
   "source": [
    "Dla rozkładu Dwumianowego wygeneruj rozkład prawdopodobieństwa dla n = 20, k = 0, …, 20 oraz p = 0.4. Sprawdź, czy suma prawdopodobieństw wygenerowana dla rozkładu dwumianowego jest równa 1."
   ],
   "metadata": {
    "collapsed": false
   }
  },
  {
   "cell_type": "code",
   "execution_count": 24,
   "outputs": [
    {
     "name": "stdout",
     "output_type": "stream",
     "text": [
      "[3.65615844e-05 4.87487792e-04 3.08742268e-03 1.23496907e-02\n",
      " 3.49907904e-02 7.46470195e-02 1.24411699e-01 1.65882266e-01\n",
      " 1.79705788e-01 1.59738478e-01 1.17141551e-01 7.09948791e-02\n",
      " 3.54974396e-02 1.45630521e-02 4.85435071e-03 1.29449352e-03\n",
      " 2.69686150e-04 4.23037099e-05 4.70041221e-06 3.29853488e-07\n",
      " 1.09951163e-08]\n"
     ]
    }
   ],
   "source": [
    "n = 20\n",
    "k = range(21)\n",
    "p = 0.4\n",
    "\n",
    "binomial_distribution = binom.pmf(k, n, p)\n",
    "\n",
    "print(binomial_distribution)"
   ],
   "metadata": {
    "collapsed": false,
    "pycharm": {
     "name": "#%%\n"
    }
   }
  },
  {
   "cell_type": "code",
   "execution_count": 25,
   "outputs": [
    {
     "name": "stdout",
     "output_type": "stream",
     "text": [
      "1.000000000000001\n"
     ]
    }
   ],
   "source": [
    "print(sum(binomial_distribution))"
   ],
   "metadata": {
    "collapsed": false,
    "pycharm": {
     "name": "#%%\n"
    }
   }
  },
  {
   "cell_type": "markdown",
   "source": [
    "Jak widać, suma prawdopodobieństw dla rozkładu dwumianowego z parametrami n = 20, k = 0, …, 20 oraz p = 0.4 jest bardzo bliska 1, co potwierdza, że rozkład jest poprawny."
   ],
   "metadata": {
    "collapsed": false
   }
  },
  {
   "cell_type": "markdown",
   "source": [
    "Wygeneruj 100 danych dla rozkładu normalnego o średniej równej 0 i odchyleniu standardowym równym 2. Wyznacz wszystkie statystyki podstawowe – czy są one równe z wartościami teoretycznymi? Sprawdź, czy zwiększenie liczby danych zwiększy dokładność wyliczeń statystyk opisowych."
   ],
   "metadata": {
    "collapsed": false
   }
  },
  {
   "cell_type": "code",
   "execution_count": 26,
   "outputs": [
    {
     "name": "stdout",
     "output_type": "stream",
     "text": [
      "Średnia: 0.41232969730341823\n",
      "Odchylenie standardowe: 2.011589221360603\n",
      "Wariancja: 4.0464911954941565\n",
      "Mediana: 1.2852840631917135\n",
      "Minimalna wartość: -6.145615073801582\n",
      "Maksymalna wartość: 5.6946325909150435\n"
     ]
    }
   ],
   "source": [
    "df = np.random.normal(0, 2, 100)\n",
    "mean = np.mean(df)\n",
    "std = np.std(df)\n",
    "variance = np.var(df)\n",
    "median = stats.median_abs_deviation(df)\n",
    "min_value = np.min(df)\n",
    "max_value = np.max(df)\n",
    "print(\"Średnia: \" + str(mean))\n",
    "print(\"Odchylenie standardowe: \" + str(std))\n",
    "print(\"Wariancja: \" + str(variance))\n",
    "print(\"Mediana: \" + str(median))\n",
    "print(\"Minimalna wartość: \" + str(min_value))\n",
    "print(\"Maksymalna wartość: \" + str(max_value))"
   ],
   "metadata": {
    "collapsed": false,
    "pycharm": {
     "name": "#%%\n"
    }
   }
  },
  {
   "cell_type": "code",
   "execution_count": 27,
   "outputs": [
    {
     "name": "stdout",
     "output_type": "stream",
     "text": [
      "Średnia: 0.08813710219527081\n",
      "Odchylenie standardowe: 1.958974617235627\n",
      "Wariancja: 3.837581550973472\n",
      "Mediana: 1.3516601079513102\n",
      "Minimalna wartość: -7.7731217987586385\n",
      "Maksymalna wartość: 7.097361717546045\n"
     ]
    }
   ],
   "source": [
    "df = np.random.normal(0, 2, 1000)\n",
    "mean = np.mean(df)\n",
    "std = np.std(df)\n",
    "variance = np.var(df)\n",
    "median = stats.median_abs_deviation(df)\n",
    "min_value = np.min(df)\n",
    "max_value = np.max(df)\n",
    "print(\"Średnia: \" + str(mean))\n",
    "print(\"Odchylenie standardowe: \" + str(std))\n",
    "print(\"Wariancja: \" + str(variance))\n",
    "print(\"Mediana: \" + str(median))\n",
    "print(\"Minimalna wartość: \" + str(min_value))\n",
    "print(\"Maksymalna wartość: \" + str(max_value))"
   ],
   "metadata": {
    "collapsed": false,
    "pycharm": {
     "name": "#%%\n"
    }
   }
  },
  {
   "cell_type": "markdown",
   "source": [
    "Zwiększenie liczby danych spowodowało, że wartości statystyk są bliższe wartościom teoretycznym."
   ],
   "metadata": {
    "collapsed": false
   }
  },
  {
   "cell_type": "markdown",
   "source": [
    "Narysować na jednym wykresie histogram dla rozkładu normalnego o parametrach: średnia = 1, odchylenie =2, wykres dla rozkładu standardowego, oraz wykres gęstości dla średniej równej -1 oraz odchylenia równego 0.5"
   ],
   "metadata": {
    "collapsed": false
   }
  },
  {
   "cell_type": "code",
   "execution_count": 30,
   "outputs": [
    {
     "data": {
      "text/plain": "<Figure size 640x480 with 1 Axes>",
      "image/png": "[encoded data removed]"
     },
     "metadata": {},
     "output_type": "display_data"
    }
   ],
   "source": [
    "from scipy.stats import norm\n",
    "\n",
    "mean = 1\n",
    "std = 2\n",
    "df = np.random.normal(mean, std, 1000)\n",
    "plt.hist(df, bins=25, density=True)\n",
    "\n",
    "standard_data = np.random.standard_normal(1000)\n",
    "plt.hist(standard_data, bins=25, density=True, alpha=0.5)\n",
    "\n",
    "mean = -1\n",
    "std = 0.5\n",
    "x = np.linspace(-5, 5, 100)\n",
    "y = norm.pdf(x, mean, std)\n",
    "plt.plot(x, y, 'g')\n",
    "\n",
    "plt.xlabel('X')\n",
    "plt.ylabel('P(X)')\n",
    "plt.title('Histogram dla rozkładu normalnego, standardowego oraz wykres gęstości')\n",
    "plt.show()"
   ],
   "metadata": {
    "collapsed": false,
    "pycharm": {
     "name": "#%%\n"
    }
   }
  },
  {
   "cell_type": "markdown",
   "source": [],
   "metadata": {
    "collapsed": false
   }
  }
 ],
 "metadata": {
  "kernelspec": {
   "display_name": "Python 3",
   "language": "python",
   "name": "python3"
  },
  "language_info": {
   "codemirror_mode": {
    "name": "ipython",
    "version": 2
   },
   "file_extension": ".py",
   "mimetype": "text/x-python",
   "name": "python",
   "nbconvert_exporter": "python",
   "pygments_lexer": "ipython2",
   "version": "2.7.6"
  }
 },
 "nbformat": 4,
 "nbformat_minor": 0
}